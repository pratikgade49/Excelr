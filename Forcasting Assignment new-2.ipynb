{
 "cells": [
  {
   "cell_type": "code",
   "execution_count": 1,
   "id": "d3cc4f48",
   "metadata": {},
   "outputs": [
    {
     "ename": "ModuleNotFoundError",
     "evalue": "No module named 'pandas.util'",
     "output_type": "error",
     "traceback": [
      "\u001b[0;31m---------------------------------------------------------------------------\u001b[0m",
      "\u001b[0;31mModuleNotFoundError\u001b[0m                       Traceback (most recent call last)",
      "\u001b[0;32m/var/folders/2n/z9t2ky8x68xdlptvrbn2mq_80000gn/T/ipykernel_7938/2058133470.py\u001b[0m in \u001b[0;36m<module>\u001b[0;34m\u001b[0m\n\u001b[1;32m      3\u001b[0m \u001b[0;32mimport\u001b[0m \u001b[0mmatplotlib\u001b[0m\u001b[0;34m.\u001b[0m\u001b[0mpyplot\u001b[0m \u001b[0;32mas\u001b[0m \u001b[0mplt\u001b[0m\u001b[0;34m\u001b[0m\u001b[0;34m\u001b[0m\u001b[0m\n\u001b[1;32m      4\u001b[0m \u001b[0;32mimport\u001b[0m \u001b[0mseaborn\u001b[0m \u001b[0;32mas\u001b[0m \u001b[0msb\u001b[0m\u001b[0;34m\u001b[0m\u001b[0;34m\u001b[0m\u001b[0m\n\u001b[0;32m----> 5\u001b[0;31m \u001b[0;32mimport\u001b[0m \u001b[0mstatsmodels\u001b[0m\u001b[0;34m.\u001b[0m\u001b[0mformula\u001b[0m\u001b[0;34m.\u001b[0m\u001b[0mapi\u001b[0m \u001b[0;32mas\u001b[0m \u001b[0msmf\u001b[0m\u001b[0;34m\u001b[0m\u001b[0;34m\u001b[0m\u001b[0m\n\u001b[0m\u001b[1;32m      6\u001b[0m \u001b[0;32mfrom\u001b[0m \u001b[0mpandas\u001b[0m\u001b[0;34m.\u001b[0m\u001b[0mplotting\u001b[0m \u001b[0;32mimport\u001b[0m \u001b[0mlag_plot\u001b[0m\u001b[0;34m\u001b[0m\u001b[0;34m\u001b[0m\u001b[0m\n\u001b[1;32m      7\u001b[0m \u001b[0;32mfrom\u001b[0m \u001b[0mstatsmodels\u001b[0m\u001b[0;34m.\u001b[0m\u001b[0mgraphics\u001b[0m\u001b[0;34m.\u001b[0m\u001b[0mtsaplots\u001b[0m \u001b[0;32mimport\u001b[0m \u001b[0mplot_acf\u001b[0m\u001b[0;34m\u001b[0m\u001b[0;34m\u001b[0m\u001b[0m\n",
      "\u001b[0;32m/opt/anaconda3/lib/python3.9/site-packages/statsmodels/formula/__init__.py\u001b[0m in \u001b[0;36m<module>\u001b[0;34m\u001b[0m\n\u001b[1;32m      1\u001b[0m \u001b[0m__all__\u001b[0m \u001b[0;34m=\u001b[0m \u001b[0;34m[\u001b[0m\u001b[0;34m'handle_formula_data'\u001b[0m\u001b[0;34m,\u001b[0m \u001b[0;34m'test'\u001b[0m\u001b[0;34m]\u001b[0m\u001b[0;34m\u001b[0m\u001b[0;34m\u001b[0m\u001b[0m\n\u001b[0;32m----> 2\u001b[0;31m \u001b[0;32mfrom\u001b[0m \u001b[0;34m.\u001b[0m\u001b[0mformulatools\u001b[0m \u001b[0;32mimport\u001b[0m \u001b[0mhandle_formula_data\u001b[0m\u001b[0;34m\u001b[0m\u001b[0;34m\u001b[0m\u001b[0m\n\u001b[0m\u001b[1;32m      3\u001b[0m \u001b[0;34m\u001b[0m\u001b[0m\n\u001b[1;32m      4\u001b[0m \u001b[0;32mfrom\u001b[0m \u001b[0mstatsmodels\u001b[0m\u001b[0;34m.\u001b[0m\u001b[0mtools\u001b[0m\u001b[0;34m.\u001b[0m\u001b[0m_testing\u001b[0m \u001b[0;32mimport\u001b[0m \u001b[0mPytestTester\u001b[0m\u001b[0;34m\u001b[0m\u001b[0;34m\u001b[0m\u001b[0m\n\u001b[1;32m      5\u001b[0m \u001b[0;34m\u001b[0m\u001b[0m\n",
      "\u001b[0;32m/opt/anaconda3/lib/python3.9/site-packages/statsmodels/formula/formulatools.py\u001b[0m in \u001b[0;36m<module>\u001b[0;34m\u001b[0m\n\u001b[0;32m----> 1\u001b[0;31m \u001b[0;32mimport\u001b[0m \u001b[0mstatsmodels\u001b[0m\u001b[0;34m.\u001b[0m\u001b[0mtools\u001b[0m\u001b[0;34m.\u001b[0m\u001b[0mdata\u001b[0m \u001b[0;32mas\u001b[0m \u001b[0mdata_util\u001b[0m\u001b[0;34m\u001b[0m\u001b[0;34m\u001b[0m\u001b[0m\n\u001b[0m\u001b[1;32m      2\u001b[0m \u001b[0;32mfrom\u001b[0m \u001b[0mpatsy\u001b[0m \u001b[0;32mimport\u001b[0m \u001b[0mdmatrices\u001b[0m\u001b[0;34m,\u001b[0m \u001b[0mNAAction\u001b[0m\u001b[0;34m\u001b[0m\u001b[0;34m\u001b[0m\u001b[0m\n\u001b[1;32m      3\u001b[0m \u001b[0;32mimport\u001b[0m \u001b[0mnumpy\u001b[0m \u001b[0;32mas\u001b[0m \u001b[0mnp\u001b[0m\u001b[0;34m\u001b[0m\u001b[0;34m\u001b[0m\u001b[0m\n\u001b[1;32m      4\u001b[0m \u001b[0;34m\u001b[0m\u001b[0m\n\u001b[1;32m      5\u001b[0m \u001b[0;31m# if users want to pass in a different formula framework, they can\u001b[0m\u001b[0;34m\u001b[0m\u001b[0;34m\u001b[0m\u001b[0m\n",
      "\u001b[0;32m/opt/anaconda3/lib/python3.9/site-packages/statsmodels/tools/__init__.py\u001b[0m in \u001b[0;36m<module>\u001b[0;34m\u001b[0m\n\u001b[0;32m----> 1\u001b[0;31m \u001b[0;32mfrom\u001b[0m \u001b[0;34m.\u001b[0m\u001b[0mtools\u001b[0m \u001b[0;32mimport\u001b[0m \u001b[0madd_constant\u001b[0m\u001b[0;34m,\u001b[0m \u001b[0mcategorical\u001b[0m\u001b[0;34m\u001b[0m\u001b[0;34m\u001b[0m\u001b[0m\n\u001b[0m\u001b[1;32m      2\u001b[0m \u001b[0;32mfrom\u001b[0m \u001b[0mstatsmodels\u001b[0m\u001b[0;34m.\u001b[0m\u001b[0mtools\u001b[0m\u001b[0;34m.\u001b[0m\u001b[0m_testing\u001b[0m \u001b[0;32mimport\u001b[0m \u001b[0mPytestTester\u001b[0m\u001b[0;34m\u001b[0m\u001b[0;34m\u001b[0m\u001b[0m\n\u001b[1;32m      3\u001b[0m \u001b[0;34m\u001b[0m\u001b[0m\n\u001b[1;32m      4\u001b[0m \u001b[0m__all__\u001b[0m \u001b[0;34m=\u001b[0m \u001b[0;34m[\u001b[0m\u001b[0;34m'test'\u001b[0m\u001b[0;34m,\u001b[0m \u001b[0;34m'add_constant'\u001b[0m\u001b[0;34m,\u001b[0m \u001b[0;34m'categorical'\u001b[0m\u001b[0;34m]\u001b[0m\u001b[0;34m\u001b[0m\u001b[0;34m\u001b[0m\u001b[0m\n\u001b[1;32m      5\u001b[0m \u001b[0;34m\u001b[0m\u001b[0m\n",
      "\u001b[0;32m/opt/anaconda3/lib/python3.9/site-packages/statsmodels/tools/tools.py\u001b[0m in \u001b[0;36m<module>\u001b[0;34m\u001b[0m\n\u001b[1;32m      7\u001b[0m \u001b[0;32mimport\u001b[0m \u001b[0mscipy\u001b[0m\u001b[0;34m.\u001b[0m\u001b[0mlinalg\u001b[0m\u001b[0;34m\u001b[0m\u001b[0;34m\u001b[0m\u001b[0m\n\u001b[1;32m      8\u001b[0m \u001b[0;34m\u001b[0m\u001b[0m\n\u001b[0;32m----> 9\u001b[0;31m \u001b[0;32mfrom\u001b[0m \u001b[0mstatsmodels\u001b[0m\u001b[0;34m.\u001b[0m\u001b[0mcompat\u001b[0m\u001b[0;34m.\u001b[0m\u001b[0mpython\u001b[0m \u001b[0;32mimport\u001b[0m \u001b[0mlzip\u001b[0m\u001b[0;34m,\u001b[0m \u001b[0mlmap\u001b[0m\u001b[0;34m\u001b[0m\u001b[0;34m\u001b[0m\u001b[0m\n\u001b[0m\u001b[1;32m     10\u001b[0m \u001b[0;34m\u001b[0m\u001b[0m\n\u001b[1;32m     11\u001b[0m \u001b[0;32mfrom\u001b[0m \u001b[0mstatsmodels\u001b[0m\u001b[0;34m.\u001b[0m\u001b[0mtools\u001b[0m\u001b[0;34m.\u001b[0m\u001b[0mdata\u001b[0m \u001b[0;32mimport\u001b[0m \u001b[0m_is_using_pandas\u001b[0m\u001b[0;34m,\u001b[0m \u001b[0m_is_recarray\u001b[0m\u001b[0;34m\u001b[0m\u001b[0;34m\u001b[0m\u001b[0m\n",
      "\u001b[0;32m/opt/anaconda3/lib/python3.9/site-packages/statsmodels/compat/__init__.py\u001b[0m in \u001b[0;36m<module>\u001b[0;34m\u001b[0m\n\u001b[0;32m----> 1\u001b[0;31m \u001b[0;32mfrom\u001b[0m \u001b[0mstatsmodels\u001b[0m\u001b[0;34m.\u001b[0m\u001b[0mtools\u001b[0m\u001b[0;34m.\u001b[0m\u001b[0m_testing\u001b[0m \u001b[0;32mimport\u001b[0m \u001b[0mPytestTester\u001b[0m\u001b[0;34m\u001b[0m\u001b[0;34m\u001b[0m\u001b[0m\n\u001b[0m\u001b[1;32m      2\u001b[0m \u001b[0;34m\u001b[0m\u001b[0m\n\u001b[1;32m      3\u001b[0m from .python import (\n\u001b[1;32m      4\u001b[0m     \u001b[0mPY37\u001b[0m\u001b[0;34m,\u001b[0m\u001b[0;34m\u001b[0m\u001b[0;34m\u001b[0m\u001b[0m\n\u001b[1;32m      5\u001b[0m     \u001b[0masunicode\u001b[0m\u001b[0;34m,\u001b[0m \u001b[0masbytes\u001b[0m\u001b[0;34m,\u001b[0m \u001b[0masstr\u001b[0m\u001b[0;34m,\u001b[0m\u001b[0;34m\u001b[0m\u001b[0;34m\u001b[0m\u001b[0m\n",
      "\u001b[0;32m/opt/anaconda3/lib/python3.9/site-packages/statsmodels/tools/_testing.py\u001b[0m in \u001b[0;36m<module>\u001b[0;34m\u001b[0m\n\u001b[1;32m      9\u001b[0m \u001b[0;34m\u001b[0m\u001b[0m\n\u001b[1;32m     10\u001b[0m \"\"\"\n\u001b[0;32m---> 11\u001b[0;31m \u001b[0;32mfrom\u001b[0m \u001b[0mstatsmodels\u001b[0m\u001b[0;34m.\u001b[0m\u001b[0mcompat\u001b[0m\u001b[0;34m.\u001b[0m\u001b[0mpandas\u001b[0m \u001b[0;32mimport\u001b[0m \u001b[0massert_equal\u001b[0m\u001b[0;34m\u001b[0m\u001b[0;34m\u001b[0m\u001b[0m\n\u001b[0m\u001b[1;32m     12\u001b[0m \u001b[0;34m\u001b[0m\u001b[0m\n\u001b[1;32m     13\u001b[0m \u001b[0;32mimport\u001b[0m \u001b[0mos\u001b[0m\u001b[0;34m\u001b[0m\u001b[0;34m\u001b[0m\u001b[0m\n",
      "\u001b[0;32m/opt/anaconda3/lib/python3.9/site-packages/statsmodels/compat/pandas.py\u001b[0m in \u001b[0;36m<module>\u001b[0;34m\u001b[0m\n\u001b[1;32m      3\u001b[0m \u001b[0;32mimport\u001b[0m \u001b[0mnumpy\u001b[0m \u001b[0;32mas\u001b[0m \u001b[0mnp\u001b[0m\u001b[0;34m\u001b[0m\u001b[0;34m\u001b[0m\u001b[0m\n\u001b[1;32m      4\u001b[0m \u001b[0;32mimport\u001b[0m \u001b[0mpandas\u001b[0m \u001b[0;32mas\u001b[0m \u001b[0mpd\u001b[0m\u001b[0;34m\u001b[0m\u001b[0;34m\u001b[0m\u001b[0m\n\u001b[0;32m----> 5\u001b[0;31m \u001b[0;32mfrom\u001b[0m \u001b[0mpandas\u001b[0m\u001b[0;34m.\u001b[0m\u001b[0mutil\u001b[0m\u001b[0;34m.\u001b[0m\u001b[0m_decorators\u001b[0m \u001b[0;32mimport\u001b[0m \u001b[0mdeprecate_kwarg\u001b[0m\u001b[0;34m,\u001b[0m \u001b[0mAppender\u001b[0m\u001b[0;34m,\u001b[0m \u001b[0mSubstitution\u001b[0m\u001b[0;34m\u001b[0m\u001b[0;34m\u001b[0m\u001b[0m\n\u001b[0m\u001b[1;32m      6\u001b[0m \u001b[0;34m\u001b[0m\u001b[0m\n\u001b[1;32m      7\u001b[0m __all__ = ['assert_frame_equal', 'assert_index_equal', 'assert_series_equal',\n",
      "\u001b[0;31mModuleNotFoundError\u001b[0m: No module named 'pandas.util'"
     ]
    }
   ],
   "source": [
    "import pandas as pd\n",
    "import numpy as np\n",
    "import matplotlib.pyplot as plt \n",
    "import seaborn as sb\n",
    "import statsmodels.formula.api as smf\n",
    "from pandas.plotting import lag_plot\n",
    "from statsmodels.graphics.tsaplots import plot_acf "
   ]
  },
  {
   "cell_type": "code",
   "execution_count": null,
   "id": "bbb9f99d",
   "metadata": {},
   "outputs": [],
   "source": [
    "cc=pd.read_excel('/Users/pratikgade123/Desktop/Pandas/CocaCola_Sales_Rawdata.xlsx')"
   ]
  },
  {
   "cell_type": "code",
   "execution_count": null,
   "id": "e7aa30f2",
   "metadata": {},
   "outputs": [],
   "source": [
    "cc"
   ]
  },
  {
   "cell_type": "code",
   "execution_count": null,
   "id": "64d2099b",
   "metadata": {},
   "outputs": [],
   "source": [
    "cc.info()"
   ]
  },
  {
   "cell_type": "code",
   "execution_count": null,
   "id": "0a1bd625",
   "metadata": {},
   "outputs": [],
   "source": [
    "cc.shape"
   ]
  },
  {
   "cell_type": "code",
   "execution_count": null,
   "id": "fcb89e70",
   "metadata": {},
   "outputs": [],
   "source": [
    "plt.title(\"Line Plot\", size = 15, weight = 'bold')\n",
    "plt.ylabel(\"Sales\", size = 10, weight = 'bold')\n",
    "plt.plot(cc['Sales'])"
   ]
  },
  {
   "cell_type": "code",
   "execution_count": null,
   "id": "2b225048",
   "metadata": {},
   "outputs": [],
   "source": [
    "# Boxplot for ever\n",
    "sb.boxplot(\"Sales\",data = cc)"
   ]
  },
  {
   "cell_type": "code",
   "execution_count": null,
   "id": "2d322ddc",
   "metadata": {},
   "outputs": [],
   "source": [
    "sb.factorplot(\"Quarter\",\"Sales\",data=cc,kind=\"box\")"
   ]
  },
  {
   "cell_type": "code",
   "execution_count": null,
   "id": "70d86036",
   "metadata": {},
   "outputs": [],
   "source": [
    "quarters = ['a','b','c','d']\n",
    "n = cc['Quarter'][0]\n",
    "n[0:2]"
   ]
  },
  {
   "cell_type": "code",
   "execution_count": null,
   "id": "e1b23a2f",
   "metadata": {},
   "outputs": [],
   "source": [
    "cc['quarter'] = 0\n",
    "for i in range(42):\n",
    "    n = cc['Quarter'][i]\n",
    "    cc['quarter'][i] = n[0:2]"
   ]
  },
  {
   "cell_type": "code",
   "execution_count": null,
   "id": "c9a058b9",
   "metadata": {},
   "outputs": [],
   "source": [
    "dummy = pd.DataFrame(pd.get_dummies(cc['quarter']))\n"
   ]
  },
  {
   "cell_type": "code",
   "execution_count": null,
   "id": "c2b44c83",
   "metadata": {},
   "outputs": [],
   "source": [
    "dummy\n"
   ]
  },
  {
   "cell_type": "code",
   "execution_count": null,
   "id": "0a64a58a",
   "metadata": {},
   "outputs": [],
   "source": [
    "cc_c=pd.concat([cc,dummy],axis=1)\n"
   ]
  },
  {
   "cell_type": "code",
   "execution_count": null,
   "id": "95d2aea0",
   "metadata": {},
   "outputs": [],
   "source": [
    "cc_c"
   ]
  },
  {
   "cell_type": "code",
   "execution_count": null,
   "id": "7d9061cf",
   "metadata": {},
   "outputs": [],
   "source": [
    "cc_c[\"t\"] = np.arange(1,43)\n"
   ]
  },
  {
   "cell_type": "code",
   "execution_count": null,
   "id": "0f7d42cd",
   "metadata": {},
   "outputs": [],
   "source": [
    "cc_c[\"t_squared\"] = cc_c[\"t\"]*cc_c[\"t\"]\n",
    "cc_c.columns\n",
    "cc_c[\"log_Sales\"] = np.log(cc_c[\"Sales\"])\n"
   ]
  },
  {
   "cell_type": "code",
   "execution_count": null,
   "id": "9410c16c",
   "metadata": {},
   "outputs": [],
   "source": [
    "cc_c"
   ]
  },
  {
   "cell_type": "code",
   "execution_count": null,
   "id": "e2ba10bc",
   "metadata": {},
   "outputs": [],
   "source": [
    "plt.figure(figsize=(12,8))\n",
    "heatmap_y_quarter = pd.pivot_table(data=cc_c,values=\"Sales\",index=\"Quarter\",columns=\"quarter\",aggfunc=\"mean\", fill_value = 0)\n",
    "sb.heatmap(heatmap_y_quarter,annot=True,fmt=\"g\") #fmt is format of the grid values"
   ]
  },
  {
   "cell_type": "code",
   "execution_count": null,
   "id": "878b84e8",
   "metadata": {},
   "outputs": [],
   "source": [
    "# Boxplot for ever\n",
    "plt.figure(figsize=(8,6))\n",
    "sb.boxplot(x=\"quarter\",y=\"Sales\",data=cc_c)"
   ]
  },
  {
   "cell_type": "code",
   "execution_count": null,
   "id": "bbefdf06",
   "metadata": {},
   "outputs": [],
   "source": [
    "lag_plot(cc_c['Sales'])\n",
    "plt.title(\"Lag Plot\", size = 15, weight = \"bold\")\n",
    "plt.show()"
   ]
  },
  {
   "cell_type": "code",
   "execution_count": null,
   "id": "4c8fb55c",
   "metadata": {},
   "outputs": [],
   "source": [
    "plot_acf(cc_c['Sales'], lags = 35, color = 'green')               \n",
    "plt.xlabel(\"No of lags, k = 35\", size = 10, weight = 'bold')\n",
    "plt.ylabel(\"Autocorrelation (r2 value)\", size = 20, weight = 'bold')\n",
    "plt.show()"
   ]
  },
  {
   "cell_type": "code",
   "execution_count": null,
   "id": "f0882dfc",
   "metadata": {},
   "outputs": [],
   "source": [
    "plt.figure(figsize=(15,5))\n",
    "sb.lineplot(x=\"quarter\",y=\"Sales\",data=cc_c)"
   ]
  },
  {
   "cell_type": "code",
   "execution_count": null,
   "id": "8a443ce3",
   "metadata": {},
   "outputs": [],
   "source": [
    "train =cc_c.head(33)\n",
    "test  =cc_c.tail(7)"
   ]
  },
  {
   "cell_type": "code",
   "execution_count": null,
   "id": "af5b6c75",
   "metadata": {},
   "outputs": [],
   "source": [
    "train"
   ]
  },
  {
   "cell_type": "code",
   "execution_count": null,
   "id": "141b91dd",
   "metadata": {},
   "outputs": [],
   "source": [
    "test"
   ]
  },
  {
   "cell_type": "code",
   "execution_count": null,
   "id": "d9208581",
   "metadata": {},
   "outputs": [],
   "source": [
    "import statsmodels.formula.api as smf "
   ]
  },
  {
   "cell_type": "code",
   "execution_count": null,
   "id": "451044f3",
   "metadata": {},
   "outputs": [],
   "source": [
    "#linear Model"
   ]
  },
  {
   "cell_type": "code",
   "execution_count": null,
   "id": "a36453ea",
   "metadata": {},
   "outputs": [],
   "source": [
    "linear = smf.ols('Sales~t',data=train).fit()\n",
    "pred_linear =  pd.Series(linear.predict(pd.DataFrame(test['t'])))\n",
    "rms_linear = np.sqrt(np.mean((np.array(test['Sales'])-np.array(pred_linear))**2))\n",
    "rms_linear"
   ]
  },
  {
   "cell_type": "code",
   "execution_count": null,
   "id": "bbc9ab28",
   "metadata": {},
   "outputs": [],
   "source": [
    "Quad = smf.ols('Sales~t+t_squared',data=train).fit()                             #quadratic model\n",
    "pred_Quad = pd.Series(Quad.predict(test[[\"t\",\"t_squared\"]]))\n",
    "rms_Quad = np.sqrt(np.mean((np.array(test['Sales'])-np.array(pred_Quad))**2))\n",
    "print(\"RMS Error : \",rms_Quad)"
   ]
  },
  {
   "cell_type": "code",
   "execution_count": null,
   "id": "ec8ea340",
   "metadata": {},
   "outputs": [],
   "source": [
    "Exp = smf.ols('log_Sales~t',data=train).fit()                                    #exponential model\n",
    "pred_Exp = pd.Series(Exp.predict(pd.DataFrame(test['t'])))\n",
    "rms_Exp = np.sqrt(np.mean((np.array(test['Sales'])-np.array(np.exp(pred_Exp)))**2))\n",
    "print(\"RMS Error : \",rms_Exp)"
   ]
  },
  {
   "cell_type": "code",
   "execution_count": null,
   "id": "8bb40666",
   "metadata": {},
   "outputs": [],
   "source": [
    "add_sea = smf.ols('Sales~Q1+Q2+Q3+Q4',data=train).fit()                          #additive seasonality model\n",
    "pred_add_sea = pd.Series(add_sea.predict(test[['Q1','Q2','Q3','Q4']]))\n",
    "rms_add_sea = np.sqrt(np.mean((np.array(test['Sales'])-np.array(pred_add_sea))**2))\n",
    "print(\"RMS Error : \",rms_add_sea)\n"
   ]
  },
  {
   "cell_type": "code",
   "execution_count": null,
   "id": "26285d2c",
   "metadata": {},
   "outputs": [],
   "source": [
    "\n",
    "add_sea_quad = smf.ols('Sales~t+t_squared+Q1+Q2+Q3+Q4',data=train).fit()         #additive seasonality qudratic model\n",
    "pred_add_sea_quad = pd.Series(add_sea_quad.predict(test[['t','t_squared','Q1','Q2','Q3','Q4']]))\n",
    "rms_add_sea_quad = np.sqrt(np.mean((np.array(test['Sales'])-np.array(pred_add_sea_quad))**2))\n",
    "print(\"RMS Error : \",rms_add_sea_quad)"
   ]
  },
  {
   "cell_type": "code",
   "execution_count": null,
   "id": "289b52c9",
   "metadata": {},
   "outputs": [],
   "source": [
    "Mul_sea = smf.ols('log_Sales~Q1+Q2+Q3+Q4',data = train).fit()                     #multiplicative seasonality model\n",
    "pred_Mult_sea = pd.Series(Mul_sea.predict(test))\n",
    "rms_Mult_sea = np.sqrt(np.mean((np.array(test['Sales'])-np.array(np.exp(pred_Mult_sea)))**2))\n",
    "print(\"RMS Error : \",rms_Mult_sea)"
   ]
  },
  {
   "cell_type": "code",
   "execution_count": null,
   "id": "70efaf1c",
   "metadata": {},
   "outputs": [],
   "source": [
    "Mul_Add_sea = smf.ols('log_Sales~t+Q1+Q2+Q3+Q4',data = train).fit() #multiplicative additive seasonality\n",
    "pred_Mult_add_sea = pd.Series(Mul_Add_sea.predict(test))\n",
    "rms_Mult_add_sea = np.sqrt(np.mean((np.array(test['Sales'])-np.array(np.exp(pred_Mult_add_sea)))**2))\n",
    "print(\"RMS Error : \",rms_Mult_add_sea) "
   ]
  },
  {
   "cell_type": "code",
   "execution_count": null,
   "id": "b6deb093",
   "metadata": {},
   "outputs": [],
   "source": [
    "#tabuling rmes value\n",
    "Final_data = {\"MODEL\":pd.Series([\"rms_linear\",\"rms_Exp\",\"rms_Quad\",\"rms_add_sea\",\"rms_add_sea_quad\",\"rms_Mult_sea\",\"rms_Mult_add_sea\"]),\"RMS_Values\":pd.Series([rms_linear,rms_Exp,rms_Quad,rms_add_sea,rms_add_sea_quad,rms_Mult_sea,rms_Mult_add_sea])}\n",
    "Final_r = pd.DataFrame(Final_data)"
   ]
  },
  {
   "cell_type": "code",
   "execution_count": null,
   "id": "0ec562c2",
   "metadata": {},
   "outputs": [],
   "source": [
    "Final_r.sort_values(['RMS_Values'])"
   ]
  },
  {
   "cell_type": "code",
   "execution_count": null,
   "id": "ec30f3e0",
   "metadata": {},
   "outputs": [],
   "source": [
    "data_precict=pd.read_excel('/Users/pratikgade123/Desktop/Pandas/CocaCola_Sales_Rawdata.xlsx')"
   ]
  },
  {
   "cell_type": "code",
   "execution_count": null,
   "id": "c8c07000",
   "metadata": {},
   "outputs": [],
   "source": [
    "Final_pred = smf.ols('log_Sales~t+Q1+Q2+Q3+Q4',data=cc_c).fit()"
   ]
  },
  {
   "cell_type": "code",
   "execution_count": null,
   "id": "a210dda8",
   "metadata": {},
   "outputs": [],
   "source": [
    "pred_latest  = pd.Series(Final_pred.predict(cc_c))"
   ]
  },
  {
   "cell_type": "code",
   "execution_count": null,
   "id": "8f339457",
   "metadata": {},
   "outputs": [],
   "source": [
    "pred_latest"
   ]
  },
  {
   "cell_type": "code",
   "execution_count": null,
   "id": "14190758",
   "metadata": {},
   "outputs": [],
   "source": [
    "from pandas_profiling import ProfileReport\n",
    "PR=ProfileReport(cc)\n",
    "PR"
   ]
  },
  {
   "cell_type": "code",
   "execution_count": null,
   "id": "ab16da24",
   "metadata": {},
   "outputs": [],
   "source": [
    "airline= pd.read_excel(\"/Users/pratikgade123/Desktop/Pandas/Airlines+Data.xlsx\")"
   ]
  },
  {
   "cell_type": "code",
   "execution_count": null,
   "id": "5af7e632",
   "metadata": {},
   "outputs": [],
   "source": [
    "airline"
   ]
  },
  {
   "cell_type": "code",
   "execution_count": null,
   "id": "0e0af9cd",
   "metadata": {},
   "outputs": [],
   "source": [
    "airline.info()"
   ]
  },
  {
   "cell_type": "code",
   "execution_count": null,
   "id": "abfc6568",
   "metadata": {},
   "outputs": [],
   "source": [
    "airline.shape"
   ]
  },
  {
   "cell_type": "code",
   "execution_count": null,
   "id": "a5309745",
   "metadata": {},
   "outputs": [],
   "source": [
    "# Visualizing the overall data "
   ]
  },
  {
   "cell_type": "code",
   "execution_count": null,
   "id": "86a764ca",
   "metadata": {},
   "outputs": [],
   "source": [
    "\n",
    "plt.title(\"Line Plot\", size = 20, weight = 'bold')\n",
    "plt.ylabel(\"Passengers\", size = 15, weight = 'bold')\n",
    "plt.plot(airline['Passengers'])"
   ]
  },
  {
   "cell_type": "code",
   "execution_count": null,
   "id": "5b851301",
   "metadata": {},
   "outputs": [],
   "source": [
    "airline[\"month\"] = airline.Month.dt.strftime(\"%b\")"
   ]
  },
  {
   "cell_type": "code",
   "execution_count": null,
   "id": "4a193d77",
   "metadata": {},
   "outputs": [],
   "source": [
    "airline"
   ]
  },
  {
   "cell_type": "code",
   "execution_count": null,
   "id": "438272c6",
   "metadata": {},
   "outputs": [],
   "source": [
    "data = pd.get_dummies(airline[\"month\"])"
   ]
  },
  {
   "cell_type": "code",
   "execution_count": null,
   "id": "20391eaa",
   "metadata": {},
   "outputs": [],
   "source": [
    "data"
   ]
  },
  {
   "cell_type": "code",
   "execution_count": null,
   "id": "027bc92b",
   "metadata": {},
   "outputs": [],
   "source": [
    "new = pd.concat([airline,data],axis=1)"
   ]
  },
  {
   "cell_type": "code",
   "execution_count": null,
   "id": "83d77f25",
   "metadata": {},
   "outputs": [],
   "source": [
    "#find t_squared values and log values\n",
    "new[\"t\"] = np.arange(1,97)\n",
    "new[\"t_squared\"] = new[\"t\"]*new[\"t\"]\n",
    "new.columns\n",
    "new[\"log_passengers\"] = np.log(new[\"Passengers\"])"
   ]
  },
  {
   "cell_type": "code",
   "execution_count": null,
   "id": "bd3371a2",
   "metadata": {},
   "outputs": [],
   "source": [
    "new"
   ]
  },
  {
   "cell_type": "code",
   "execution_count": null,
   "id": "c0702e14",
   "metadata": {},
   "outputs": [],
   "source": [
    "train= new.head(75)\n",
    "test=new.tail(21)\n",
    "new.Passengers.plot()\n"
   ]
  },
  {
   "cell_type": "code",
   "execution_count": null,
   "id": "6123f89b",
   "metadata": {},
   "outputs": [],
   "source": [
    "indexed = new.set_index(['Month'])\n",
    "indexed.head(5)"
   ]
  },
  {
   "cell_type": "code",
   "execution_count": null,
   "id": "5370ed22",
   "metadata": {},
   "outputs": [],
   "source": [
    "rolmean = indexedDataset.rolling(window=12).mean() \n",
    "#window size 12 denotes 1 Year\n",
    "\n",
    "rolstd = indexedDataset.rolling(window=12).std()\n",
    "print(rolmean,rolstd)"
   ]
  },
  {
   "cell_type": "code",
   "execution_count": null,
   "id": "9895494d",
   "metadata": {
    "scrolled": true
   },
   "outputs": [],
   "source": [
    "new.Passengers.plot(label=\"org\")\n",
    "for i in range(2,10,2):\n",
    "    new[\"Passengers\"].rolling(i).mean().plot(label=str(i))\n",
    "plt.legend(loc=4)"
   ]
  },
  {
   "cell_type": "code",
   "execution_count": null,
   "id": "5c04744b",
   "metadata": {},
   "outputs": [],
   "source": [
    "#ACF plot and PCAF plot"
   ]
  },
  {
   "cell_type": "code",
   "execution_count": null,
   "id": "11a83d10",
   "metadata": {},
   "outputs": [],
   "source": [
    "import statsmodels.graphics.tsaplots as tsa_plots\n",
    "tsa_plots.plot_acf(new.Passengers,lags=12)\n",
    "tsa_plots.plot_pacf(new.Passengers,lags=12)\n",
    "plt.show()"
   ]
  },
  {
   "cell_type": "code",
   "execution_count": null,
   "id": "7ad46d20",
   "metadata": {},
   "outputs": [],
   "source": [
    "Quadratic Model"
   ]
  },
  {
   "cell_type": "code",
   "execution_count": null,
   "id": "9dbc1b5d",
   "metadata": {
    "scrolled": true
   },
   "outputs": [],
   "source": [
    "\n",
    "quad=smf.ols('Passengers~t+t_squared',data=new).fit()\n",
    "predquad=pd.Series(quad.predict(pd.DataFrame(test[['t','t_squared']])))\n",
    "rmsequad=np.sqrt(np.mean((np.array(test['Passengers'])-np.array(predquad))**2))\n",
    "print(\"RMS Error : \",rmsequad)"
   ]
  },
  {
   "cell_type": "code",
   "execution_count": null,
   "id": "fc5954e1",
   "metadata": {},
   "outputs": [],
   "source": [
    "linear model"
   ]
  },
  {
   "cell_type": "code",
   "execution_count": null,
   "id": "181dfdb4",
   "metadata": {},
   "outputs": [],
   "source": [
    "\n",
    "linear= smf.ols('Passengers~t',data=new).fit()\n",
    "predlin=pd.Series(linear.predict(pd.DataFrame(test['t'])))\n",
    "rmselin=np.sqrt((np.mean(np.array(test['Passengers'])-np.array(predlin))**2))\n",
    "print(\"RMS Error : \",rmselin)"
   ]
  },
  {
   "cell_type": "code",
   "execution_count": null,
   "id": "73a50a80",
   "metadata": {},
   "outputs": [],
   "source": [
    "#exponential model"
   ]
  },
  {
   "cell_type": "code",
   "execution_count": null,
   "id": "0463f9e7",
   "metadata": {},
   "outputs": [],
   "source": [
    "\n",
    "expo=smf.ols('log_passengers~t',data=new).fit()\n",
    "predexp=pd.Series(expo.predict(pd.DataFrame(test['t'])))\n",
    "predexp\n",
    "rmseexpo=np.sqrt(np.mean((np.array(test['Passengers'])-np.array(np.exp(predexp)))**2))\n",
    "print(\"RMS Error : \",rmseexpo)"
   ]
  },
  {
   "cell_type": "code",
   "execution_count": null,
   "id": "5d791261",
   "metadata": {},
   "outputs": [],
   "source": [
    "#additive seasonality"
   ]
  },
  {
   "cell_type": "code",
   "execution_count": null,
   "id": "f54bc269",
   "metadata": {},
   "outputs": [],
   "source": [
    "additive= smf.ols('Passengers~ Jan+Feb+Mar+Apr+May+Jun+Jul+Aug+Sep+Oct+Nov+Dec',data=new).fit()\n",
    "predadd=pd.Series(additive.predict(pd.DataFrame(test[['Jan','Feb','Mar','Apr','May','Jun','Jul','Aug','Sep','Oct','Nov','Dec']])))\n",
    "predadd\n",
    "rmseadd=np.sqrt(np.mean((np.array(test['Passengers'])-np.array(predadd))**2))\n",
    "print(\"RMS Error : \",rmseadd)"
   ]
  },
  {
   "cell_type": "code",
   "execution_count": null,
   "id": "9ff64b3c",
   "metadata": {},
   "outputs": [],
   "source": [
    "#additive seasonality with linear trend\n",
    "addlinear= smf.ols('Passengers~t+Jan+Feb+Mar+Apr+May+Jun+Jul+Aug+Sep+Oct+Nov+Dec',data=new).fit()\n",
    "PAL=pd.Series(addlinear.predict(pd.DataFrame(test[['t','Jan','Feb','Mar','Apr','May','Jun','Jul','Aug','Sep','Oct','Nov','Dec']])))\n",
    "PAL"
   ]
  },
  {
   "cell_type": "code",
   "execution_count": null,
   "id": "f4f27885",
   "metadata": {},
   "outputs": [],
   "source": [
    "rmseaddlinear=np.sqrt(np.mean((np.array(test['Passengers'])-np.array(PAL))**2))\n",
    "print(\"RMS Error : \",rmseaddlinear)"
   ]
  },
  {
   "cell_type": "code",
   "execution_count": null,
   "id": "42da2f95",
   "metadata": {},
   "outputs": [],
   "source": [
    "#additive seasonality with quadratic trend\n",
    "addquad=smf.ols('Passengers~t+t_squared+Jan+Feb+Mar+Apr+May+Jun+Jul+Aug+Sep+Oct+Nov+Dec',data=new).fit()\n",
    "predaddquad=pd.Series(addquad.predict(pd.DataFrame(test[['t','t_squared','Jan','Feb','Mar','Apr','May','Jun','Jul','Aug','Sep','Oct','Nov','Dec']])))\n",
    "rmseaddquad=np.sqrt(np.mean((np.array(test['Passengers'])-np.array(PAL))**2))\n",
    "print(\"Root Mean Square Error : \",rmseaddquad)"
   ]
  },
  {
   "cell_type": "code",
   "execution_count": null,
   "id": "08155149",
   "metadata": {},
   "outputs": [],
   "source": [
    "#multiplicative seasonality\n",
    "mulsea=smf.ols('log_passengers~Jan+Feb+Mar+Apr+May+Jun+Jul+Aug+Sep+Oct+Nov+Dec',data=new).fit()\n",
    "predmul= pd.Series(mulsea.predict(pd.DataFrame(test[['Jan','Feb','Mar','Apr','May','Jun','Jul','Aug','Sep','Oct','Nov','Dec']])))\n",
    "rmsemul= np.sqrt(np.mean((np.array(test['Passengers'])-np.array(np.exp(predmul)))**2))\n",
    "print(\"Root Mean Square Error : \",rmsemul)"
   ]
  },
  {
   "cell_type": "code",
   "execution_count": null,
   "id": "93b816f4",
   "metadata": {},
   "outputs": [],
   "source": [
    "#multiplicative seasonality with quadratic trend\n",
    "mul_quad= smf.ols('log_passengers~t+t_squared+Jan+Feb+Mar+Apr+May+Jun+Jul+Aug+Sep+Oct+Nov+Dec',data=new).fit()\n",
    "pred_mul_quad= pd.Series(mul_quad.predict(test[['t','t_squared','Jan','Feb','Mar','Apr','May','Jun','Jul','Aug','Sep','Oct','Nov','Dec']]))\n",
    "rmse_mul_quad=np.sqrt(np.mean((np.array(test['Passengers'])-np.array(np.exp(pred_mul_quad)))**2))\n",
    "print(\"Root Mean Square Error : \",rmse_mul_quad)"
   ]
  },
  {
   "cell_type": "code",
   "execution_count": null,
   "id": "82523d1a",
   "metadata": {},
   "outputs": [],
   "source": [
    "data={'Model':pd.Series(['rmse_mul_quad','rmseadd','rmseaddlinear','rmseaddquad','rmseexpo','rmselin','rmsemul','rmsequad']),'Values':pd.Series([rmse_mul_quad,rmseadd,rmseaddlinear,rmseaddquad,rmseexpo,rmselin,rmsemul,rmsequad])}\n"
   ]
  },
  {
   "cell_type": "code",
   "execution_count": null,
   "id": "91a0db96",
   "metadata": {},
   "outputs": [],
   "source": [
    "RMSE=pd.DataFrame(data)\n",
    "RMSE"
   ]
  },
  {
   "cell_type": "code",
   "execution_count": null,
   "id": "ec7d30fa",
   "metadata": {},
   "outputs": [],
   "source": [
    "#import dataset for making model"
   ]
  },
  {
   "cell_type": "code",
   "execution_count": null,
   "id": "6358e435",
   "metadata": {},
   "outputs": [],
   "source": [
    "Final= pd.read_excel(\"/Users/pratikgade123/Desktop/Pandas/Airlines+Data.xlsx\")"
   ]
  },
  {
   "cell_type": "code",
   "execution_count": null,
   "id": "37536406",
   "metadata": {},
   "outputs": [],
   "source": [
    "Final_pred = smf.ols('log_passengers~t+t_squared+Jan+Feb+Mar+Apr+May+Jun+Jul+Aug+Sep+Oct+Nov+Dec',data=new).fit()"
   ]
  },
  {
   "cell_type": "code",
   "execution_count": null,
   "id": "db03aeb8",
   "metadata": {},
   "outputs": [],
   "source": [
    "pred_final  = pd.Series(Final_pred.predict(new))"
   ]
  },
  {
   "cell_type": "code",
   "execution_count": null,
   "id": "0a847abe",
   "metadata": {},
   "outputs": [],
   "source": [
    "pred_final"
   ]
  },
  {
   "cell_type": "code",
   "execution_count": null,
   "id": "09746450",
   "metadata": {},
   "outputs": [],
   "source": []
  }
 ],
 "metadata": {
  "kernelspec": {
   "display_name": "Python 3 (ipykernel)",
   "language": "python",
   "name": "python3"
  },
  "language_info": {
   "codemirror_mode": {
    "name": "ipython",
    "version": 3
   },
   "file_extension": ".py",
   "mimetype": "text/x-python",
   "name": "python",
   "nbconvert_exporter": "python",
   "pygments_lexer": "ipython3",
   "version": "3.9.7"
  }
 },
 "nbformat": 4,
 "nbformat_minor": 5
}
